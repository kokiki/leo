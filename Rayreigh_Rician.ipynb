{
 "cells": [
  {
   "cell_type": "code",
   "execution_count": null,
   "metadata": {},
   "outputs": [],
   "source": []
  },
  {
   "cell_type": "markdown",
   "metadata": {},
   "source": [
    "Rayleigh 와 Rician ch 간 차이점 : LOS 신호 유무 \n"
   ]
  },
  {
   "cell_type": "markdown",
   "metadata": {},
   "source": [
    "## 1. Rayleigh channel \n",
    "\n",
    "$$ y = hs + n $$\n",
    "$$ h = ae^{jφ} = X+jY $$\n",
    "* y : 수신신호, h : channel , n : 가우시안노이즈\n"
   ]
  },
  {
   "cell_type": "markdown",
   "metadata": {},
   "source": [
    "X + jY라는 신호에서는 중심극한정리에의해 아래와 같은 zero-mean 가우시안 분포를 따름\n",
    "$$ X ~ N(0, σ^2) $$\n",
    "$$ Y ~ N(0, σ^2) $$"
   ]
  },
  {
   "cell_type": "markdown",
   "metadata": {},
   "source": [
    "####  Rayleigh ch 진폭 분포\n",
    "$$ a = \\sqrt{X^2 + Y^2} $$\n",
    "#### Rayleigh ch 진폭과 위상 분포\n",
    "$$ a ~ Rayleigh(0, σ) $$\n",
    "$$ φ ~ uniform(-π,π) $$\n",
    "\n",
    "* 위상은 -π 부터 π까지 균일한 확률로 나타나며, a가 Rayleigh 분포를 따를때 이 ch 를 Rayleigh ch이라고 부름\n",
    "\n",
    "* 이때 ch자체는 Complex Gaussian 분포를 따름 \n",
    "$$ h ~ CN(0, 2σ^2) $$"
   ]
  },
  {
   "cell_type": "markdown",
   "metadata": {},
   "source": [
    "## 2. Rician channel \n",
    "* NLOS + LOS"
   ]
  },
  {
   "cell_type": "markdown",
   "metadata": {},
   "source": [
    "##### ch h의 복소 형태 표현 \n",
    "$$ h = (X + A) + jY $$ \n",
    "* A : LOS factor A 실수부 추가 "
   ]
  },
  {
   "cell_type": "markdown",
   "metadata": {},
   "source": [
    "####  Rician ch 진폭 분포\n",
    "$$ a = \\sqrt{(X + A)^2 + Y^2}$$\n"
   ]
  },
  {
   "cell_type": "markdown",
   "metadata": {},
   "source": [
    "##### Rician 분포의 2가지 파라미터 K, Ω\n",
    "$$ K = \\frac{v^2}{2σ^2} $$ \n",
    "* K: NLOS 신호에 비해 LOS가 얼만큼 강한지에 대한 변수, LOS factor와 나머지(산란,회절) NLOS factor들의 비율\n",
    "\n",
    "\n",
    "$$ Ω = 2σ^2 + v^2 $$\n",
    "* Ω : 전체 수신 전력\n",
    "* Rayleigh ch variance가 $2σ^{2}$ 이므로 LOS variance $v^2$ 추가 고려\n"
   ]
  },
  {
   "cell_type": "markdown",
   "metadata": {},
   "source": [
    "#### Rayleigh와 Rice 분포의 관계\n",
    "Rayleigh(σ) = Rice(0, σ)\n",
    "* Rician 분포는 LOS path에 의한 영향 즉, v=0인 특수한 경우의 Rayleigh 분포임"
   ]
  },
  {
   "cell_type": "markdown",
   "metadata": {},
   "source": []
  }
 ],
 "metadata": {
  "kernelspec": {
   "display_name": "Python 3",
   "language": "python",
   "name": "python3"
  },
  "language_info": {
   "codemirror_mode": {
    "name": "ipython",
    "version": 3
   },
   "file_extension": ".py",
   "mimetype": "text/x-python",
   "name": "python",
   "nbconvert_exporter": "python",
   "pygments_lexer": "ipython3",
   "version": "3.10.8"
  }
 },
 "nbformat": 4,
 "nbformat_minor": 2
}

{
 "cells": [
  {
   "cell_type": "markdown",
   "metadata": {},
   "source": [
    "## **2. SYSTEM MODEL**"
   ]
  },
  {
   "cell_type": "markdown",
   "metadata": {},
   "source": [
    "#### A. **System Setup**"
   ]
  },
  {
   "cell_type": "markdown",
   "metadata": {},
   "source": [
    "#### Ma + RF Chain 구조의 Uniform planar arrary(UPA)\n",
    "$$ M_{A} = M_{x} M_{y} $$ \n",
    "* x축과 y축의 안테나 수"
   ]
  },
  {
   "cell_type": "markdown",
   "metadata": {},
   "source": [
    "\n",
    "$$ M_{RF} << M_{A} $$ "
   ]
  },
  {
   "cell_type": "markdown",
   "metadata": {},
   "source": [
    "#### UPA ant를 가진 LEO 위성이 K개 단일 안테나를 가진 UT에게 서비스 제공 \n",
    "$$ M_{RF} >= K $$\n",
    "\n",
    "* (가정) RF Chain에 의해 최대 전송 스트림의 수가 제한되어있기 때문에, LEO 위성과 연결된 UT의 수는 RF Chain의 수보다 작음 "
   ]
  },
  {
   "cell_type": "markdown",
   "metadata": {},
   "source": [
    "####  **B. Transmission Model With Hybrid Beamforming**"
   ]
  },
  {
   "cell_type": "markdown",
   "metadata": {},
   "source": [
    "#### LEO 위성의 MIMO 통신시스템 LEO 위성의 DL전송 및 HB 수행 \n",
    "* 순시 t에 따른 반송파 f, 모든 K개 UT의 수신된 신호 \n",
    "$$ y \\in C^{K*1}"
   ]
  },
  {
   "cell_type": "markdown",
   "metadata": {},
   "source": [
    "$$ y = H(t,f)^{H}F_{RF}F_{BB}x + n $$"
   ]
  },
  {
   "cell_type": "markdown",
   "metadata": {},
   "source": [
    "$$ E(xx^{H}) = (P/K)I_{K} $$ \n",
    "* 위의 조건을 만족하는 LEO위성에 의해 전송된 신호 벡터는 아래와 같이 표현\n",
    "$$ x \\in C^{K*1} $$"
   ]
  },
  {
   "cell_type": "markdown",
   "metadata": {},
   "source": [
    "\n",
    "$$ n ~ CN(0,  σ^2I_{K}) $$\n",
    "* 위의 차이를 갖는 AWGN(Additive white Gaussian noise) 복소수 값은 아래와 같이 표현\n",
    "$$ n \\in C^{K*1} $$"
   ]
  },
  {
   "cell_type": "markdown",
   "metadata": {},
   "source": [
    "#### Baseband digital processing\n",
    "$$ F_{BB} \\in C^{M_{RF}*K}$$ \n",
    "* 문헌에 따르면 디지털 빔포머를 통해 고도와 위상 수정가능 \n",
    "\n",
    "#### RF Analog processing\n",
    "$$ F_{RF} \\in C^{M_{A}*M_{RF}}$$ \n",
    "* 가변위상시프터가 있는 아날로그 빔포머의 경우 위상수정만 가능"
   ]
  },
  {
   "cell_type": "markdown",
   "metadata": {},
   "source": [
    "#### 평균 전력 상태\n",
    "$$ ||F_{RF}F_{BB}||^{2}_{F} = K $$"
   ]
  },
  {
   "cell_type": "markdown",
   "metadata": {},
   "source": [
    "$$ |[F_{RF}]_ij]]^2 = 1/M_{A} $$\n"
   ]
  },
  {
   "cell_type": "markdown",
   "metadata": {},
   "source": [
    "* 전체 DL 전송을 위해 신호 벡터 X 는 처음에 디지털 빔포머에 의해 처리되고, 아날로그 빔포머에의해 다뤄짐 \n",
    "* K UT는 LEO 위성으로부터 전송된 신호를 ch H를 통해 받음 \n",
    "\n",
    "$$ H(t,f) = [H_1(t,f), H_2(t,f), ... , H_K(t,f)] \\in C^{M_{A}}*K "
   ]
  },
  {
   "cell_type": "markdown",
   "metadata": {},
   "source": [
    "#### **C. Channel Model**"
   ]
  },
  {
   "cell_type": "markdown",
   "metadata": {},
   "source": [
    "* LEO 위성과 UT K사이의 채널은 2가지(랜덤 NLoS, 결정론적 LoS)요소로 구성\n",
    "$$ H_{k}(t,f) = H_{k}^{LoS}(t,f) + H_{k}^{NLoS}(t,f)"
   ]
  },
  {
   "cell_type": "markdown",
   "metadata": {},
   "source": [
    "$$ H_{k}^{Los}(t,f) = \\sqrt{\\frac{K_{k}}{K_{k}+1}} * exp[{-j2πfτ_{k}^{LoS}}]$$  \n",
    "$$* exp[j2πt(v_{D,k}^{SAT,LoS} + v_{D,k}^{UT,LoS})$$\n",
    "$$* D_{k}(θ_{k}^{LoS}, φ_{k}^{LoS})] $$     \n",
    "\n",
    "*\n",
    "$$ H_{k}^{NLos}(t,f) = \\sqrt{\\frac{1}{K_{k}+1}} \\sqrt{\\frac{1}{L_{k}}}∑_{l=1}^{L_{k}}g_{k,l} exp[{-j2πfτ_{k,l}^{NLoS}}]$$  \n",
    "$$* exp[j2πt(v_{D,k,l}^{SAT,NLoS} + v_{D,k,l}^{UT,NLoS})$$    \n",
    "$$* D_{k}(θ_{k,l}^{NLoS}, φ_{k,l}^{NLoS})]$$\n",
    "\n",
    "\n",
    "* $K_{k}$ : Rician factor   \n",
    "\n",
    "* $L_{k}$ : UT k의 NLoS 전파 경로의 수   \n",
    "\n",
    "* $g_{k,l}$ : path l 의 복소수 값 이득 , ( $L_{k}^{-1}∑_{l=1}^{L_{k}}E(|g_{k,l}|^2) = 1$ 수식을 만족하는 )   \n",
    "\n",
    "* $τ_{k}^{LoS}, v_{D,k}^{SAT,LoS}, v_{D,k}^{UT,LoS}$ : LEO 위성과 UT k의 LOS(NLoS)경로에서 전파경로 지연과 도플러 쉬프트에 의해 발생  \n",
    "\n",
    "* $D_{k}(θ_{k}^{LoS}, φ_{k}^{LoS}) , D_{k}(θ_{k}^{NLoS}, φ_{k}^{NLoS})$ : 다른 전송 경로 하에 대응하는 manifold matrix 표현  \n",
    "\n",
    "* $D_{k}(θ_{k}, φ_{k}) = D_{k}(θ_{k}^{LoS}, φ_{k}^{LoS}), D_{k}(θ_{k}^{NLoS}, φ_{k}^{NLoS}) $ : Ch model 의 배열응답 매개변수 구성요소 "
   ]
  },
  {
   "cell_type": "markdown",
   "metadata": {},
   "source": [
    "$D_{k}(θ_{k}, φ_{k}) = d_{k, x}(θ_{k}, φ_{k}) ⨂ d_{k, y}(θ_{k}, φ_{k}) $  \n",
    "\n",
    "$d_{k, x}(θ_{k}, φ_{k}) = \\frac{1}{\\sqrt{M}_{Ax}}[1, exp[-jvcosθ_{k}cosφ_{k}], ...  \n",
    "exp[-jv(M_{Ax}-1)cosθ_{k}cosφ_{k}]]^T$   \n",
    "\n",
    "$d_{k, y}(θ_{k}, φ_{k}) = \\frac{1}{\\sqrt{M}_{Ay}}[1, exp[-jvcosθ_{k}cosφ_{k}], ...  \n",
    "exp[-jv(M_{Ay}-1)cosθ_{k}cosφ_{k}]]^T$\n",
    "\n",
    "* $θ_{k}^{LoS}(φ_{k,l}^{LoS}) ,θ_{k}^{NLoS}(φ_{k,l}^{NLoS}) $ : UT K의 LoS, NLoS 전파경로와 관련된 수평(수직)방향의 각도  \n",
    "\n",
    "* $v = 2πdf/c$   \n",
    "(d : 안테나 간격, c : 광속)    \n",
    "\n",
    "* 각도, 전파지연, 도플러변화 등 위 채널모델에 관련된 매개변수는 시간에 따라 변함( 변수 t 생략)"
   ]
  },
  {
   "cell_type": "markdown",
   "metadata": {},
   "source": [
    "* LEO 위성은 주변에 위치한 UT 및 산란체와 달리 높은 고도에 위치하여,  \n",
    " LEO 위성의 움직임으로 인해 발생한 LoS와 NLoS의 도플러이동은 시간 간격 k에 걸쳐 동일한 값을 가짐.   \n",
    "$ v_{D,k}^{SAT,LoS} = v_{D,k,l}^{SAT,NLoS} $    \n",
    "\n",
    "* 전파지연차(LoS와 NLoS사이)는 LEO 통신시스템이 지상무선통신시스템 보다 훨씬 작은 값을 갖음  \n",
    "$ τ_{k, l} =  τ_{k, l}^{NLoS} - τ_{k}^{LoS} $   "
   ]
  },
  {
   "cell_type": "markdown",
   "metadata": {},
   "source": [
    "#### 위의 LoS와 NLoS 포함하는 채널\n",
    "$$ H_{k}(t,f) = \\sqrt{\\frac{K_{k}}{K_{k}+1}}* exp[{-j2πfτ_{k}^{LoS}}] $$\n",
    "$$* exp[j2πt(v_{D,k}^{SAT,LoS} + v_{D,k}^{UT,LoS})]$$  \n",
    "$$* D_{k}(θ_{k}^{LoS}, φ_{k}^{LoS})]  +  \\sqrt{\\frac{1}{K_{k}+1}} \\sqrt{\\frac{1}{L_{k}}}*∑_{l=1}^{L_{k}}g_{k,l}$$     \n",
    "$$* exp[{-j2πf(τ_{k}^{LoS}+ ∆τ_{k, l})}]  $$\n",
    "$$* exp[j2πt(v_{D,k}^{SAT,LoS} + v_{D,l}^{UT,LoS})] $$  \n",
    "$$* D_{k}(θ_{k,l}^{NLoS}, φ_{k,l}^{NLoS}) $$   \n",
    "\n",
    "* 위의 사용된 채널 모델링 접근방식은 다양한 시나리오에 적용 가능\n",
    "* 경로이득의 크기는 위성과 UT사이 거리, 반송파, 안테나 이득, 산란체의 단면적 및 유전적 특성에 따라 달라짐 \n",
    "* 도플러이동, 전파지연 및 배열 응답방향은 동작상태, 각경로의 거리 및 위성과 UT간의 상대 위치에 따라 달라짐"
   ]
  },
  {
   "cell_type": "markdown",
   "metadata": {},
   "source": [
    "## **3. PROBLEM FORMULATION**"
   ]
  },
  {
   "cell_type": "markdown",
   "metadata": {},
   "source": [
    "#### **A. Downlink CSI Acquirement**"
   ]
  },
  {
   "cell_type": "markdown",
   "metadata": {},
   "source": [
    "mMIMO 통신시스템은 주로 TDD, FDD 패턴에 초점    \n",
    "다른 패턴의 경우, UL과 DL의 반송파 동일여부 고려하여, 기지국은 채널상호성 또는 사용자 피드백에 따라 DL CSI를 얻음   \n",
    "그러나, 지상통신과 달리 LEO 통신은 높은고도이점을 활용한 광역커버리지 이점이 있으나, 효과적인 하향 CSI를 얻기 어려움    \n",
    "  \n",
    "TDD : LEO위성과 UT사이의 시간차와 긴 전파지연으로 Ch 상호성 얻기 어려움,   \n",
    "즉 LEO 위성에서 관측된 CSI는 실제 채널상태를 반영하지않으므로 UL CSI를 DL CSI에 대한 참조로 사용할 수 없음  \n",
    "  \n",
    "FDD : 안테나와 UT 증가 할수록 학습관 피드백 관련 높은 오버헤드와 한정적인 LEO 자원의 큰 부담,  \n",
    "피드백 지연시간이 길어질수록 채널 노후화 심각해짐 \n",
    "  \n",
    "이러한 경우에따라, LEO 위성이 관측된 오래된 UP CSI 기반으로 미래 이용가능한 DL CSI를 예측하도록 지원하는 방법을 통해 효과적으로 해결 가능   \n",
    "  \n",
    "MIMO시스템의 UL와 DL Ch은 같은 통신환경을 공유하기때문에 CSI 매핑 상관관계가 있음.   \n",
    "LoS경로가 LEO위성과 UT사이의 주요 경로이며, 전파특성이 특정 대역폭 내에서 거의 변하지 않을 수 있다는 점 고려할때  매핑관계가 LEO 위성과 mMIMO 통신시스템에서도 유효할 것임 (논문 29-33참조)\n",
    "\n"
   ]
  },
  {
   "cell_type": "markdown",
   "metadata": {},
   "source": [
    "* $S_{k}(t)$ : UT k의 공간상태(시간 t에서 ch매개변수에 포함된 환경적 특징)\n",
    "\n",
    "\n",
    "* UT k의 공간상태와 채널응답은 아래와 같은 매핑관계   \n",
    "$$Φ_{t,s→f} : {s_{k}(t)} → {H_{k}(t,f)}$$   \n",
    "$$Φ_{t,s→f}^{-1} : {H_{k}(t,f)} → {s_{k}(t)} $$\n",
    "\n",
    "* 긴전파지연으로 변경될 수 있으나, LEO위성 알려진궤도와 안정적인 전파환경 가정하였을때\n",
    "$$ γ_{t→t+τ,s} : {s_{k}(t)} → {s_{k}(t+τ)}$$"
   ]
  },
  {
   "cell_type": "markdown",
   "metadata": {},
   "source": [
    "* ${s_{k}(t)}$를 중개자로 볼때 UL와 DL의 매핑 관계 (모르겠음....)\n",
    "\n",
    "$$ Ψ_{t+τ,f_{D}} = Φ_{t+τ,f_{D→s}}∘γ_{t→t+τ,s}∘Φ_{t,s→f}^{-1}$$  \n",
    "* $f_{U}, f_{D}$ : UL, DL Ch의 반송파(동일여부는 시스템 동작모드에 따라 달라짐)\n",
    "\n",
    "* 위의 공식화된 매핑관계를 수학적으로 풀 수 있다면 오래된 UL CSI 사용하여, 미래의 DL CSI를 얻는데 효과적임   \n",
    "* [문제점 제시]그러나, 위와같이 복잡한 매핑함수는 알려진 수학방법으로 풀기어려움 "
   ]
  },
  {
   "cell_type": "markdown",
   "metadata": {},
   "source": [
    "#### **B. Hybrid Beamforming Design**"
   ]
  },
  {
   "cell_type": "markdown",
   "metadata": {},
   "source": [
    "* 수신 신호 품질 향상 및 효과적 데이터 전송 달성을 하기 위해,  빔포밍설계는 획득된 DL CSI 기반의 LEO위성에 의해 달성해야할 중요한 단계 중 하나이다.  \n",
    "그러나, Fully digital beamforming 기술은 HW 비용과 계산 복잡도 높음   \n",
    "따라서, LEO 위성의 제한된 비용과 자원 고려시, Hybrid beamforming 접근이 선호됨  "
   ]
  },
  {
   "cell_type": "markdown",
   "metadata": {},
   "source": [
    "     \n",
    "  \n",
    "* 전송모델과 채널 매핑관계에 따라, DL 전송에서 UT K의 SINR 아래와 같이 정의됨  \n",
    "\n",
    "$ SINR_{k}(F_{RF},f_{BB,k}) $\n",
    "$$ = \\frac{\\frac{P}{K}|(F_{RF}^{H}Ψ_{t+τ,f_{U}→f_{D}}∘H_{k}(t,f_{U}))^{H}f_{BB,k}|^2}\n",
    "{\\frac{P}{K}∑_{j=k}|(F_{RF}^{H}Ψ_{t+τ,f_{U}→f_{D}}∘H_{k}(t,f_{U}))^{H}f_{BB,j}|^2 + σ^2} $$\n"
   ]
  },
  {
   "cell_type": "markdown",
   "metadata": {},
   "source": [
    "* k번째 UT의 달성가능한 속도\n",
    "$$ R_{k}(F_{RF},f_{BB,k}) = log_{2}(1+SINR_{k}(F_{RF},f_{BB,K}))"
   ]
  },
  {
   "cell_type": "markdown",
   "metadata": {},
   "source": [
    "* 목표 - LEO 위성 mMIMO 통신시스템의 달성가능한 합계 속도 최대화 \n",
    "\n",
    "$$ F_{RF},f_{BB,k} = argmax_{F_{RF},f_{BB,k}}∑_{k=1}^{K}R_{k}(F_{RF},f_{BB,k})$$\n",
    "$ F_{RF} ∈A $ : 아날로그 빔포머의 실행가능한 세트  \n",
    "$ ||F_{RF},f_{BB,k}||_{F}^{2} = K $  \n",
    "$ F_{RF} = [F_{RF,1}, F_{RF,2}, ... , F_{RF,K}] $  \n",
    "$ F_{RF} = [F_{BB,1}, F_{BB,2}, ... , F_{BB,K}] $"
   ]
  },
  {
   "cell_type": "markdown",
   "metadata": {},
   "source": [
    "* 먼저 수신신호강도를 최대화 하기 위해 Analog beamformer 설계 후, digital beamformer 사용하여 시스템 내 간섭 줄임\n",
    "* $F_{RF}$ 알려지면, 원래의 고차원 Ch → 저차원 유효 ch 표현 가능\n",
    "$$ H_{eff}(t+τ, f_{D}) = (F_{RF}^{H}H(t+τ, f_{D}))^{H} $$\n",
    "* K UT의 DL CSI \n",
    "$$ H(t+τ, f_{D}) = [Ψ_{t+τ,f_{U}→f_{D}}∘H_{k}(t,f_{U})]_{k=1}^{K} $$\n",
    "* 디지털 빔포머는 쉽게 아래와 같은 제약조건을 얻을 수 있음 (모르겠음...)\n",
    "$$ F_{BB} = H_{eff}(t+τ, f_{D})^{H}(H_{eff}(t+τ, f_{D})H_{eff}(t+τ, f_{D})^{H})^{-1} $$\n",
    "\n",
    "* 그러나, 대부분의 기존 하이브리드 빔포밍방식은 아날로그 빔포머를 선택하기 위한 코드북이나 최적화 알고리즘 기반  \n",
    "* 유한한 옵션과 무작위 각도 분포때문에 이러한 준비된 옵션을 기반으로하는 선택가능한 구성이 항상 만족스러운 빔포밍 이득 유지 보장 불가   \n",
    "동시에, 복잡한 최적화 알고리즘은 많은 계산 오버헤드를 초래함   \n",
    "* 결론적으로, 위의 문제를 해결하고자 데이터 특징을 추출하고 비선형 문제처리하기 위한 신경망 이점을 고려하여 UL과 DL Ch간의 내부 관계 탐색 후,  \n",
    "다음 부분에서 하이브리드 빔포밍 설계 실현 "
   ]
  },
  {
   "cell_type": "markdown",
   "metadata": {},
   "source": [
    "## **4. DL-BASED DOWNLINK CSI PREDICTION AND HYBRID BEAMFORMING**"
   ]
  },
  {
   "cell_type": "markdown",
   "metadata": {},
   "source": [
    "#### **A. SatCP Architecture and Workflow**"
   ]
  },
  {
   "cell_type": "markdown",
   "metadata": {},
   "source": [
    "### CNN Module & LSTM Module \n",
    "* SatCP는 LEO위성과 단말기 사이의 UL, DL Ch 내부관계 탐색하도록 설계, 관찰된 UL CSI에 따라 LEO위성이 즉시 미래 DL CSI를 예측하는것을 지원\n",
    "* 기존의 지상 통신시스템 UL CSI 사용하여 DL CSI예측 실현하기 위한 DL기반 작업과는 달리, SatCP는 즉시성 가정이 성립되지않는 LEO위성 시나리오임\n"
   ]
  },
  {
   "cell_type": "markdown",
   "metadata": {},
   "source": [
    "##### CNN Module : ch info의 숨겨진 공간 특징 추출하고 학습   \n",
    "    - UP CSI는 2개의 이미지 inputdata, 4개의 CONV layer, vectorization layer에 의해 동작 \n",
    "    - 실수부와 허수부로 이뤄진 CSI MAP, 첫번째 CH과 두번째 CH로 구성됨   \n",
    "$$ξ∘H_{k}(t,f_{U}) = {K(H_{k}(t,f_{U})), I(H_{k}(t,f_{U}))}$$"
   ]
  },
  {
   "cell_type": "markdown",
   "metadata": {},
   "source": [
    "* CSI 숨겨진 공간적 특징은 CONV layer 필터에의해 완전히 추출되어 특징 맵 형성   \n",
    "* 각 특징 맵은 conv 연산에 따라 필터에 의해 생성   \n",
    "    - filter : 16,16,8,2   \n",
    "    - filter size : 3x3  \n",
    "    - stride : 1  \n",
    "    - padding : input data와 동일한 특징맵 크기 유지   \n",
    "    - batch normalization : 학습가속화   \n",
    "    - activation func : LeakyReLU(leaky Rectified Linerar Unit)    \n",
    "        - $ F_{LR}(x) = {x, if   x ≥ 0  } $    \n",
    "        - $ {  0.01x, if x < 0} $   \n",
    "#### LSTM Module : 공간전파특징 기반의 시간적 상관관계 파악, 미래상태 예측 역할\n",
    "* 긴 시리즈의학습과정에서 표준 RNN의 장기종속성 문제 효과적 방지\n",
    "    - input data : cnn모듈로부터 출력벡터 \n",
    "    - 2개의 LSTM layer, 각 층은 256개의 뉴런으로 구성  \n",
    "    - 1개의 memory cell과 3개의 상호작용하는 gate로 구성\n",
    "    - 이전상태와 저장, 폐기, 전송정보는 각각의 memory cell과 input, forgetting, output gate에 의해 제어 \n",
    "\n",
    "\n",
    "    $ i_{t} = F_{sig}(W_{i}x_{t}+U_{i}g_{t-1}+b_{i}) $  : input gate  \n",
    "    $ f_{t} = F_{sig}(W_{f}x_{t}+U_{f}g_{t-1}+b_{f}) $  : foeget gate  \n",
    "    $ o_{t} = F_{sig}(W_{o}x_{t}+U_{o}g_{t-1}+b_{o}) $  : output gate  \n",
    "    $ c_{t} = f_{t}⨂c_{t-1}+i_{t}⨂F_{Tan}(W_{c}x_{t}+U_{c}g_{t-1}+b_{c}) $  :memory cell  \n",
    "    $ g_{t} = o_{t}⨂⨂F_{Tan}(c_{t}) $    \n",
    "    $ F_{sig}(x) = \\frac{1}{1+e^(-x)}, F_{Tan}(x) = \\frac{e^(2x)-1}{e^(2x)+1} $    \n",
    "    $ W ≜ [W_{i}, W_{f}, W_{o}, W_{c}],  U ≜ [U_{i}, U_{f}, U_{o}, U_{c}] $ : 해당 gate의 weight   \n",
    "    $ b ≜ [b_{i}, b_{f}, b_{o}, b_{c}] $ : output bias  \n",
    "    $ x, g_{t-1} $ : input vector와 이전 시간의 숨겨진 상태          \n",
    "    gate와 cell은 sigmoid func $ F_{sig}와 hyperbolic tangent func $F_{Tan}(x)$에 의해 동작\n",
    "\n",
    "- 위의 요소를 통해 무상관 ch 정보를 LSTM 모듈에서 삭제 가능   \n",
    "- 과적합 방지와 노드간 상호의존성 줄이기 위해 dropout 사용   \n",
    "- 마지막으로 채널의 공간적 시간적 특징을 통합하여 SatCP는 출력계층에서 예측된 결과제공 → $\\hat{y}_{SatCP}$  \n",
    "- $\\hat{y}_{SatCP}$  network 출력결과는 CSI의 실수값 벡터임 →  실수부분과 허수부분으로 재구성 필요   \n",
    "향후 DL CSI는 $\\hat{H}_{k}(t+τ, f_{D}) = ξ^{-1}∘ζ∘\\hat{y}_{SatCP} $  "
   ]
  },
  {
   "cell_type": "code",
   "execution_count": null,
   "metadata": {
    "vscode": {
     "languageId": "plaintext"
    }
   },
   "outputs": [],
   "source": [
    "\n"
   ]
  },
  {
   "cell_type": "code",
   "execution_count": null,
   "metadata": {
    "vscode": {
     "languageId": "plaintext"
    }
   },
   "outputs": [],
   "source": []
  },
  {
   "cell_type": "markdown",
   "metadata": {},
   "source": []
  }
 ],
 "metadata": {
  "kernelspec": {
   "display_name": "Python 3",
   "language": "python",
   "name": "python3"
  },
  "language_info": {
   "codemirror_mode": {
    "name": "ipython",
    "version": 3
   },
   "file_extension": ".py",
   "mimetype": "text/x-python",
   "name": "python",
   "nbconvert_exporter": "python",
   "pygments_lexer": "ipython3",
   "version": "3.10.8"
  }
 },
 "nbformat": 4,
 "nbformat_minor": 2
}
